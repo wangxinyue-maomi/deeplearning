{
 "cells": [
  {
   "cell_type": "markdown",
   "metadata": {},
   "source": [
    "## 准备数据"
   ]
  },
  {
   "cell_type": "code",
   "execution_count": 1,
   "metadata": {},
   "outputs": [],
   "source": [
    "import os\n",
    "import numpy as np\n",
    "import tensorflow as tf\n",
    "from tensorflow import keras\n",
    "from tensorflow.keras import layers, optimizers, datasets\n",
    "\n",
    "os.environ['TF_CPP_MIN_LOG_LEVEL'] = '2'  # or any {'0', '1', '2'}\n",
    "\n",
    "def mnist_dataset():\n",
    "    (x, y), (x_test, y_test) = datasets.mnist.load_data()\n",
    "    #normalize\n",
    "    x = x/255.0\n",
    "    x_test = x_test/255.0\n",
    "    \n",
    "    return (x, y), (x_test, y_test)"
   ]
  },
  {
   "cell_type": "code",
   "execution_count": 2,
   "metadata": {},
   "outputs": [
    {
     "name": "stdout",
     "output_type": "stream",
     "text": [
      "[(1, 'a'), (2, 'b'), (3, 'c'), (4, 'd')]\n"
     ]
    }
   ],
   "source": [
    "print(list(zip([1, 2, 3, 4], ['a', 'b', 'c', 'd'])))"
   ]
  },
  {
   "cell_type": "markdown",
   "metadata": {},
   "source": [
    "## 建立模型"
   ]
  },
  {
   "cell_type": "code",
   "execution_count": 15,
   "metadata": {},
   "outputs": [],
   "source": [
    "class myModel:\n",
    "    def __init__(self):\n",
    "        ####################\n",
    "        '''声明模型对应的参数'''\n",
    "        self.W1 = tf.Variable(tf.random.normal([784, 128]))  # 输入层到隐藏层的权重\n",
    "        self.b1 = tf.Variable(tf.zeros([128]))  # 隐藏层的偏置\n",
    "        self.W2 = tf.Variable(tf.random.normal([128, 10]))  # 隐藏层到输出层的权重\n",
    "        self.b2 = tf.Variable(tf.zeros([10]))  # 输出层的偏置\n",
    "        \n",
    "        ####################\n",
    "    def __call__(self, x):\n",
    "        ####################\n",
    "        '''实现模型函数体，返回未归一化的logits'''\n",
    "        x = tf.reshape(x, [-1, 784])\n",
    "        hidden = tf.matmul(x, self.W1) + self.b1\n",
    "        hidden = tf.nn.relu(hidden)  \n",
    "        \n",
    "        # 输出层计算\n",
    "        logits = tf.matmul(hidden, self.W2) + self.b2\n",
    "        ####################\n",
    "        return logits\n",
    "        \n",
    "model = myModel()\n",
    "\n",
    "optimizer = optimizers.Adam()"
   ]
  },
  {
   "cell_type": "markdown",
   "metadata": {},
   "source": [
    "## 计算 loss"
   ]
  },
  {
   "cell_type": "code",
   "execution_count": 16,
   "metadata": {},
   "outputs": [],
   "source": [
    "@tf.function\n",
    "def compute_loss(logits, labels):\n",
    "    return tf.reduce_mean(\n",
    "        tf.nn.sparse_softmax_cross_entropy_with_logits(\n",
    "            logits=logits, labels=labels))\n",
    "\n",
    "@tf.function\n",
    "def compute_accuracy(logits, labels):\n",
    "    predictions = tf.argmax(logits, axis=1)\n",
    "    return tf.reduce_mean(tf.cast(tf.equal(predictions, labels), tf.float32))\n",
    "\n",
    "@tf.function\n",
    "def train_one_step(model, optimizer, x, y):\n",
    "    with tf.GradientTape() as tape:\n",
    "        logits = model(x)\n",
    "        loss = compute_loss(logits, y)\n",
    "\n",
    "    # compute gradient\n",
    "    trainable_vars = [model.W1, model.W2, model.b1, model.b2]\n",
    "    grads = tape.gradient(loss, trainable_vars)\n",
    "    for g, v in zip(grads, trainable_vars):\n",
    "        v.assign_sub(0.01*g)\n",
    "\n",
    "    accuracy = compute_accuracy(logits, y)\n",
    "\n",
    "    # loss and accuracy is scalar tensor\n",
    "    return loss, accuracy\n",
    "\n",
    "@tf.function\n",
    "def test(model, x, y):\n",
    "    logits = model(x)\n",
    "    loss = compute_loss(logits, y)\n",
    "    accuracy = compute_accuracy(logits, y)\n",
    "    return loss, accuracy"
   ]
  },
  {
   "cell_type": "markdown",
   "metadata": {},
   "source": [
    "## 实际训练"
   ]
  },
  {
   "cell_type": "code",
   "execution_count": 17,
   "metadata": {},
   "outputs": [
    {
     "name": "stdout",
     "output_type": "stream",
     "text": [
      "epoch 0 : loss 108.17925 ; accuracy 0.092083335\n",
      "epoch 1 : loss 96.897736 ; accuracy 0.0952\n",
      "epoch 2 : loss 90.587074 ; accuracy 0.0994\n",
      "epoch 3 : loss 85.802376 ; accuracy 0.104383335\n",
      "epoch 4 : loss 81.78683 ; accuracy 0.1096\n",
      "epoch 5 : loss 78.24902 ; accuracy 0.114033334\n",
      "epoch 6 : loss 75.057335 ; accuracy 0.11913333\n",
      "epoch 7 : loss 72.15228 ; accuracy 0.12325\n",
      "epoch 8 : loss 69.49371 ; accuracy 0.12728333\n",
      "epoch 9 : loss 67.07292 ; accuracy 0.13235\n",
      "epoch 10 : loss 64.88162 ; accuracy 0.1364\n",
      "epoch 11 : loss 62.905357 ; accuracy 0.14153333\n",
      "epoch 12 : loss 61.11212 ; accuracy 0.14651667\n",
      "epoch 13 : loss 59.48572 ; accuracy 0.15141666\n",
      "epoch 14 : loss 57.99831 ; accuracy 0.1568\n",
      "epoch 15 : loss 56.62179 ; accuracy 0.1618\n",
      "epoch 16 : loss 55.3318 ; accuracy 0.16753334\n",
      "epoch 17 : loss 54.11023 ; accuracy 0.17358333\n",
      "epoch 18 : loss 52.94513 ; accuracy 0.17906667\n",
      "epoch 19 : loss 51.82856 ; accuracy 0.18505\n",
      "epoch 20 : loss 50.75488 ; accuracy 0.19115\n",
      "epoch 21 : loss 49.720108 ; accuracy 0.1973\n",
      "epoch 22 : loss 48.721874 ; accuracy 0.20353334\n",
      "epoch 23 : loss 47.757965 ; accuracy 0.2092\n",
      "epoch 24 : loss 46.826866 ; accuracy 0.21593334\n",
      "epoch 25 : loss 45.92784 ; accuracy 0.22218333\n",
      "epoch 26 : loss 45.05889 ; accuracy 0.22838333\n",
      "epoch 27 : loss 44.21869 ; accuracy 0.23433334\n",
      "epoch 28 : loss 43.406334 ; accuracy 0.24023333\n",
      "epoch 29 : loss 42.621124 ; accuracy 0.24616666\n",
      "epoch 30 : loss 41.862175 ; accuracy 0.25251666\n",
      "epoch 31 : loss 41.128525 ; accuracy 0.25858334\n",
      "epoch 32 : loss 40.41898 ; accuracy 0.26476666\n",
      "epoch 33 : loss 39.732574 ; accuracy 0.27046666\n",
      "epoch 34 : loss 39.067944 ; accuracy 0.2763\n",
      "epoch 35 : loss 38.42461 ; accuracy 0.28153333\n",
      "epoch 36 : loss 37.801376 ; accuracy 0.28653333\n",
      "epoch 37 : loss 37.197266 ; accuracy 0.29131666\n",
      "epoch 38 : loss 36.611713 ; accuracy 0.29655\n",
      "epoch 39 : loss 36.04428 ; accuracy 0.30211666\n",
      "epoch 40 : loss 35.494724 ; accuracy 0.30716667\n",
      "epoch 41 : loss 34.962048 ; accuracy 0.31195\n",
      "epoch 42 : loss 34.44548 ; accuracy 0.31751665\n",
      "epoch 43 : loss 33.944576 ; accuracy 0.32268333\n",
      "epoch 44 : loss 33.458954 ; accuracy 0.3275\n",
      "epoch 45 : loss 32.988277 ; accuracy 0.33261666\n",
      "epoch 46 : loss 32.53216 ; accuracy 0.3378\n",
      "epoch 47 : loss 32.090057 ; accuracy 0.34263334\n",
      "epoch 48 : loss 31.661263 ; accuracy 0.34778333\n",
      "epoch 49 : loss 31.245132 ; accuracy 0.35193333\n",
      "test loss 28.872019 ; accuracy 0.3751\n"
     ]
    }
   ],
   "source": [
    "train_data, test_data = mnist_dataset()\n",
    "for epoch in range(50):\n",
    "    loss, accuracy = train_one_step(model, optimizer, \n",
    "                                    tf.constant(train_data[0], dtype=tf.float32), \n",
    "                                    tf.constant(train_data[1], dtype=tf.int64))\n",
    "    print('epoch', epoch, ': loss', loss.numpy(), '; accuracy', accuracy.numpy())\n",
    "loss, accuracy = test(model, \n",
    "                      tf.constant(test_data[0], dtype=tf.float32), \n",
    "                      tf.constant(test_data[1], dtype=tf.int64))\n",
    "\n",
    "print('test loss', loss.numpy(), '; accuracy', accuracy.numpy())"
   ]
  }
 ],
 "metadata": {
  "kernelspec": {
   "display_name": "BigModel",
   "language": "python",
   "name": "python3"
  },
  "language_info": {
   "codemirror_mode": {
    "name": "ipython",
    "version": 3
   },
   "file_extension": ".py",
   "mimetype": "text/x-python",
   "name": "python",
   "nbconvert_exporter": "python",
   "pygments_lexer": "ipython3",
   "version": "3.11.10"
  }
 },
 "nbformat": 4,
 "nbformat_minor": 2
}
